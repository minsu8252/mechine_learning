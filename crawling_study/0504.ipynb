{
 "cells": [
  {
   "cell_type": "markdown",
   "id": "79970903",
   "metadata": {},
   "source": [
    "# 빅데이터 수집과 저장\n",
    "\n",
    "volume - 자료의 양 많다\n",
    "\n",
    "variety - 형태가 비구조화(이미지, 음성)\n",
    "\n",
    "velocity - 빠르게 생산\n",
    "\n",
    "\n",
    "\n",
    "scale up \n",
    "\n",
    "scale out \n",
    "\n",
    "\n",
    "\n",
    "# 크롤링\n",
    "\n",
    "HTML 파일로 가져옴\n",
    "\n",
    ".parser : html파일 구조 파악\n",
    "\n",
    "개발자 도구에서 화살표를 누르면 페이지에서 해당하는 코드를 볼 수 있다"
   ]
  },
  {
   "cell_type": "code",
   "execution_count": 10,
   "id": "5d19595c",
   "metadata": {},
   "outputs": [
    {
     "name": "stdout",
     "output_type": "stream",
     "text": [
      "잔금대출에도 DTI 규제 적용 검토\n"
     ]
    }
   ],
   "source": [
    "# 라이브러리 임포트\n",
    "import requests\n",
    "from bs4 import BeautifulSoup\n",
    "\n",
    "# 웹페이지 가져오기\n",
    "res = requests.get('https://v.media.daum.net/v/20170615203441266')\n",
    "\n",
    "#웹페이지 파싱하기 \n",
    "soup = BeautifulSoup(res.content, 'html.parser')\n",
    "\n",
    "#필요한 데이터 추출하기\n",
    "mydata = soup.find('title')\n",
    "\n",
    "#추출한 데이터 활용하기\n",
    "print(mydata.get_text())"
   ]
  },
  {
   "cell_type": "markdown",
   "id": "2d2bae38",
   "metadata": {},
   "source": [
    "# HTML\n",
    "\n",
    "< meta charset=\"utf-8\">\n",
    "\n",
    "한글이 안깨지게 함\n",
    "\n",
    "\n",
    "<img src=\"python.jpg\" width=\"100\" height=\"100>\n",
    "\n",
    "이미지 파일을 가져오는 코드\n",
    "\n",
    "\n",
    "https://developer.mozilla.org/ko/docs/Web/HTML/Element"
   ]
  },
  {
   "cell_type": "code",
   "execution_count": 7,
   "id": "db7149fd",
   "metadata": {},
   "outputs": [
    {
     "name": "stdout",
     "output_type": "stream",
     "text": [
      "웹페이지에서 필요한 데이터를 추출하는 것\n"
     ]
    }
   ],
   "source": [
    "from bs4 import BeautifulSoup\n",
    "html =      \"<html> \\\n",
    "                <body> \\\n",
    "                        <h1 id='title'>[1]크롤링이란?</h1> \\\n",
    "                        <p class='cssstyle'>웹페이지에서 필요한 데이터를 추출하는 것</p> \\\n",
    "                        <p id='body' align='center'>파이썬을 중심으로 다양한 웹크롤링 기술 발달</p> \\\n",
    "                </body> \\\n",
    "            </html>\"\n",
    "soup = BeautifulSoup(html,\"html.parser\")\n",
    "# 태그로 검색 방법\n",
    "data = soup.find('p')\n",
    "print(data.string)"
   ]
  },
  {
   "cell_type": "code",
   "execution_count": 10,
   "id": "09b4d494",
   "metadata": {},
   "outputs": [
    {
     "name": "stdout",
     "output_type": "stream",
     "text": [
      "웹페이지에서 필요한 데이터를 추출하는 것\n"
     ]
    }
   ],
   "source": [
    "data = soup.find('p', class_='cssstyle')\n",
    "print(data.string)"
   ]
  },
  {
   "cell_type": "code",
   "execution_count": 15,
   "id": "a853e6dd",
   "metadata": {},
   "outputs": [
    {
     "name": "stdout",
     "output_type": "stream",
     "text": [
      "웹페이지에서 필요한 데이터를 추출하는 것\n"
     ]
    }
   ],
   "source": [
    "data = soup.find('p', 'cssstyle')\n",
    "print(data.string)"
   ]
  },
  {
   "cell_type": "code",
   "execution_count": 13,
   "id": "02a76601",
   "metadata": {},
   "outputs": [
    {
     "name": "stdout",
     "output_type": "stream",
     "text": [
      "파이썬을 중심으로 다양한 웹크롤링 기술 발달\n"
     ]
    }
   ],
   "source": [
    "data = soup.find('p', attrs={'align':'center'})\n",
    "print(data.string)"
   ]
  },
  {
   "cell_type": "code",
   "execution_count": 14,
   "id": "ab24df84",
   "metadata": {},
   "outputs": [
    {
     "name": "stdout",
     "output_type": "stream",
     "text": [
      "파이썬을 중심으로 다양한 웹크롤링 기술 발달\n"
     ]
    }
   ],
   "source": [
    "data = soup.find(id='body')\n",
    "print(data.string)"
   ]
  },
  {
   "cell_type": "code",
   "execution_count": 16,
   "id": "7c44b5f5",
   "metadata": {},
   "outputs": [
    {
     "name": "stdout",
     "output_type": "stream",
     "text": [
      "웹페이지에서 필요한 데이터를 추출하는 것\n",
      "파이썬을 중심으로 다양한 웹크롤링 기술 발달\n"
     ]
    }
   ],
   "source": [
    "# p가 들어가는 모든 문장 찾기 - for문 사용\n",
    "\n",
    "pa_data =soup.find_all('p')\n",
    "\n",
    "for pa in pa_data:\n",
    "    print(pa.get_text())"
   ]
  },
  {
   "cell_type": "markdown",
   "id": "25fa423a",
   "metadata": {},
   "source": [
    "※latex\n",
    "overleaf\n",
    "를 이용하여 논문 쓰기 쉽다."
   ]
  },
  {
   "cell_type": "code",
   "execution_count": 28,
   "id": "20219854",
   "metadata": {},
   "outputs": [
    {
     "name": "stdout",
     "output_type": "stream",
     "text": [
      "2017. 06. 15. 20:34\n"
     ]
    }
   ],
   "source": [
    "import requests\n",
    "from bs4 import BeautifulSoup\n",
    "res = requests.get('https://v.media.daum.net/v/20170615203441266')\n",
    "soup = BeautifulSoup(res.content,\"html.parser\")\n",
    "data = soup.find('span','num_date')\n",
    "print(data.get_text())"
   ]
  },
  {
   "cell_type": "code",
   "execution_count": 30,
   "id": "50ea08f5",
   "metadata": {},
   "outputs": [
    {
     "name": "stdout",
     "output_type": "stream",
     "text": [
      "김동욱\n",
      "입력 2017. 06. 15. 20:34\n",
      "수정 2017. 06. 15. 21:31\n"
     ]
    }
   ],
   "source": [
    "data = soup.find_all('span','txt_info')\n",
    "for item in data :\n",
    "    print(item.get_text())"
   ]
  },
  {
   "cell_type": "code",
   "execution_count": 36,
   "id": "3b372f57",
   "metadata": {},
   "outputs": [
    {
     "data": {
      "text/plain": [
       "'입력 2017. 06. 15. 20:34'"
      ]
     },
     "execution_count": 36,
     "metadata": {},
     "output_type": "execute_result"
    }
   ],
   "source": [
    "data[1].get_text()"
   ]
  },
  {
   "cell_type": "code",
   "execution_count": 37,
   "id": "0e61b7a7",
   "metadata": {},
   "outputs": [
    {
     "name": "stdout",
     "output_type": "stream",
     "text": [
      "\n",
      "금융당국이 급증하는 가계부채 증가세를 막기 위해 아파트 잔금대출에도 소득을 따져 대출한도를 정하는 총부채상환비율(DTI)을 적용하는 방안을 유력하게 검토하고 있다.\n",
      "지금은 집값을 기준으로 대출한도를 매기는 주택담보인정비율(LTV) 규제만 적용돼 소득이 없어도 집값의 70%를 빌려 잔금을 치르는 게 가능하다.\n",
      "앞으로 잔금대출에 DTI가 적용되면 소득이 없는 사람은 집값의 70% 대출 받는 게 어려워진다. 기사 제목과 주요 문장을 기반으로 자동요약한 결과입니다. 전체 맥락을 이해하기 위해서는 본문 보기를 권장합니다.\n",
      "\n"
     ]
    }
   ],
   "source": [
    "data = soup.find('div', 'layer_util layer_summary')\n",
    "print(data.get_text())"
   ]
  },
  {
   "cell_type": "code",
   "execution_count": 55,
   "id": "f442a938",
   "metadata": {
    "scrolled": true
   },
   "outputs": [
    {
     "name": "stdout",
     "output_type": "stream",
     "text": [
      "(왕초보) - 클래스 소개\n",
      "(왕초보) - 블로그 개발 필요한 준비물 준비하기\n",
      "(왕초보) - Github pages 설정해서 블로그 첫 페이지 만들어보기\n",
      "(왕초보) - 초간단 페이지 만들어보기\n",
      "(왕초보) - 이쁘게 테마 적용해보기\n",
      "(왕초보) - 마크다운 기초 이해하고, 실제 나만의 블로그 페이지 만들기\n",
      "(왕초보) - 다양한 마크다운 기법 익혀보며, 나만의 블로그 페이지 꾸며보기\n",
      "(초급) - 강사가 실제 사용하는 자동 프로그램 소개 [2]\n",
      "(초급) - 필요한 프로그램 설치 시연 [5]\n",
      "(초급) - 데이터를 엑셀 파일로 만들기 [9]\n",
      "(초급) -     엑셀 파일 이쁘게! 이쁘게! [8]\n",
      "(초급) -     나대신 주기적으로 파이썬 프로그램 실행하기 [7]\n",
      "(초급) - 파이썬으로 슬랙(slack) 메신저에 글쓰기 [40]\n",
      "(초급) - 웹사이트 변경사항 주기적으로 체크해서, 메신저로 알람주기 [12]\n",
      "(초급) - 네이버 API 사용해서, 블로그에 글쓰기 [42]\n",
      "(중급) - 자동으로 쿠팡파트너스 API 로 가져온 상품 정보, 네이버 블로그/트위터에 홍보하기 [412]\n"
     ]
    }
   ],
   "source": [
    "import requests\n",
    "from bs4 import BeautifulSoup\n",
    "res = requests.get('https://davelee-fun.github.io/blog/crawl_test')\n",
    "soup = BeautifulSoup(res.content,\"html.parser\")\n",
    "datas = soup.find_all('li','course')\n",
    "for data in datas:\n",
    "    print(data.get_text())"
   ]
  },
  {
   "cell_type": "code",
   "execution_count": 54,
   "id": "e5b71705",
   "metadata": {},
   "outputs": [
    {
     "name": "stdout",
     "output_type": "stream",
     "text": [
      "(왕초보) - 클래스 소개\n",
      "(왕초보) - 블로그 개발 필요한 준비물 준비하기\n",
      "(왕초보) - Github pages 설정해서 블로그 첫 페이지 만들어보기\n",
      "(왕초보) - 초간단 페이지 만들어보기\n",
      "(왕초보) - 이쁘게 테마 적용해보기\n",
      "(왕초보) - 마크다운 기초 이해하고, 실제 나만의 블로그 페이지 만들기\n",
      "(왕초보) - 다양한 마크다운 기법 익혀보며, 나만의 블로그 페이지 꾸며보기\n"
     ]
    }
   ],
   "source": [
    "res = requests.get('https://davelee-fun.github.io/blog/crawl_test')\n",
    "soup = BeautifulSoup(res.content,\"html.parser\")\n",
    "section = soup.find('ul', id='hobby_course_list')\n",
    "datas = section.find_all('li', 'course')\n",
    "for data in datas:\n",
    "    print(data.get_text())"
   ]
  },
  {
   "cell_type": "code",
   "execution_count": 60,
   "id": "090002c0",
   "metadata": {
    "scrolled": true
   },
   "outputs": [
    {
     "name": "stdout",
     "output_type": "stream",
     "text": [
      "1. 강사가 실제 사용하는 자동 프로그램 소개\n",
      "2. 필요한 프로그램 설치 시연\n",
      "3. 데이터를 엑셀 파일로 만들기\n",
      "4. 엑셀 파일 이쁘게! 이쁘게!\n",
      "5. 나대신 주기적으로 파이썬 프로그램 실행하기\n",
      "6. 파이썬으로 슬랙(slack) 메신저에 글쓰기\n",
      "7. 웹사이트 변경사항 주기적으로 체크해서, 메신저로 알람주기\n",
      "8. 네이버 API 사용해서, 블로그에 글쓰기\n",
      "9. 자동으로 쿠팡파트너스 API 로 가져온 상품 정보, 네이버 블로그/트위터에 홍보하기\n"
     ]
    }
   ],
   "source": [
    "res = requests.get('https://davelee-fun.github.io/blog/crawl_test')\n",
    "soup = BeautifulSoup(res.content,\"html.parser\")\n",
    "section = soup.find('ul', id='dev_course_list')\n",
    "datas = section.find_all('li', 'course')\n",
    "#strip() 공백제거\n",
    "#숫자열과 문자열 + 가 안되기 때문에 str()을 사용하여 문자열 +문자열이 되도록함\n",
    "for index, data in enumerate(datas):\n",
    "    print(str(index +1 ) + '.',data.get_text().split('-')[1].split('[')[0].strip())"
   ]
  },
  {
   "cell_type": "code",
   "execution_count": 112,
   "id": "8a448bf4",
   "metadata": {},
   "outputs": [
    {
     "name": "stdout",
     "output_type": "stream",
     "text": [
      "\n",
      "프로그래밍은 재미있습니다. 진짜로 재미있습니다.\n",
      "그 재미를 알려면 프로그래밍을 직접 해봐야하는데, 사실 프로그래밍을 시작하는 것이 쉽지가 않습니다. 그래서 여러분과 함께 배우기 쉬운\n",
      "파이썬이라는 언어를 함께 공부해보려고 합니다.\n",
      "프로그래밍이 뭐냐구요? 사람이 컴퓨터에게 일을 시키려면 컴퓨터가 알아듣는 말로 일을 시켜야만 한답니다. 컴퓨터가 알아듣는 말로 그런\n",
      "소프트웨어를 만드는 것이 바로 프로그래밍입니다. 그리고, 컴퓨터가 알아듣는 말을 프로그래밍 언어라고 하지요.\n",
      "우리가 앞으로 배울 파이썬 언어는, 배우기 쉬우면서도 프로그램을 빨리 개발할 수 있고, 기능도 뛰어나답니다.\n",
      "이 강좌는 프로그래밍을 처음 하는 분들을 위해서 파이썬을 통해 프로그래밍의 기초를 차근차근 익힐 수 있도록 진행하려고 합니다.\n",
      "그럼 우리 함께 파이썬 탐험을 떠나 볼까요~\n",
      "이 장에서 배우는 것:\n",
      "\n",
      "파이썬 준비\n",
      "정수를 계산하기\n",
      "변수\n",
      "리스트(list)\n",
      "명령해석기(interpreter)\n",
      "\n",
      "\n"
     ]
    }
   ],
   "source": [
    "import requests\n",
    "from bs4 import BeautifulSoup\n",
    "res = requests.get('https://wikidocs.net/43')\n",
    "soup = BeautifulSoup(res.content,'html.parser')\n",
    "data = soup.find('div',\"page-content tex2jax_process\")\n",
    "# for data in datas:\n",
    "print(data.get_text())"
   ]
  },
  {
   "cell_type": "code",
   "execution_count": 134,
   "id": "bec41fa8",
   "metadata": {},
   "outputs": [
    {
     "name": "stdout",
     "output_type": "stream",
     "text": [
      "Tistory\n",
      "Tistory\n",
      "티스토리 메뉴 펼치기\n",
      "검색\n",
      "로그인\n",
      "사이드바 메뉴 닫기\n",
      "블로그 홈화면\n",
      "\n",
      "\n",
      "\t\t\t\t\t\t두런두런\t\t\t\t\t\n",
      "\n",
      "\n",
      "\t\t\t\t\t\t두런두런\t\t\t\t\t\n",
      "\n",
      "티스토리 메뉴 펼치기\n",
      "\n",
      "\n",
      "댓글수0\n",
      "\n",
      "\n",
      "\n",
      "\n",
      "\n",
      "\n",
      "\n",
      "댓글수\n",
      "0\n",
      "\n",
      "\n",
      "\n",
      "\n",
      "\n",
      "\n",
      "메뉴 더보기\n",
      "\n",
      "\n",
      "#_달\n",
      "\n",
      "\n",
      "댓글수0\n",
      "\n",
      "\n",
      "\n",
      "\n",
      "\n",
      "\n",
      "\n",
      "댓글수\n",
      "0\n",
      "\n",
      "\n",
      "\n",
      "\n",
      "\n",
      "\n",
      "파이썬 에러 expected an indented block 는 들여쓰기 수준이 잘못 되어 있어서 나오는 에러다.\n",
      "공유하기\n",
      "글 요소\n",
      "\n",
      "\n",
      "저작자표시비영리동일조건 \n",
      "저작자표시\n",
      "비영리\n",
      "동일조건\n",
      "\n",
      "\n",
      "2019. 7. 16. 17:21\n",
      "2019. 11. 8. 17:27\n",
      "이 블로그 인기 글\n",
      "\n",
      "\n",
      "python - expected an indented block\n",
      "#_달\n",
      "\n",
      "\n",
      "\n",
      "Remove redundant parentheses\n",
      "#_달\n",
      "\n",
      "\n",
      "\n",
      "CosPro Python 시험 후기\n",
      "#_달\n",
      "\n",
      "\n",
      "\n",
      "No Python interpreter configured for the project\n",
      "#_달\n",
      "\n",
      "\n",
      "\n",
      "R 프로그래밍 - Error in solve.default(): Lapack routine dgesv: system is exactly singular: U[#,#] = 0\n",
      "#_달\n",
      "\n",
      "\n",
      "\n",
      "Pycharm 한글 인코딩\n",
      "#_달\n",
      "\n",
      "페이스북 공유하기\n",
      "카카오톡 공유하기\n",
      "카카오스토리 공유하기\n",
      "트위터 공유하기\n",
      "https://durun2.tistory.com/entry/python-expected-an-indented-block\n",
      "신고하기\n",
      "신고하기\n",
      "\n",
      "\n",
      "\n",
      "\n",
      "\n",
      "\n",
      "\n",
      "닫기\n"
     ]
    }
   ],
   "source": [
    "import requests\n",
    "from bs4 import BeautifulSoup\n",
    "res = requests.get('https://durun2.tistory.com/m/60')\n",
    "soup = BeautifulSoup(res.content,'html.parser')\n",
    "datas = soup.find_all('span')\n",
    "for data in datas:\n",
    "    print(data.get_text())"
   ]
  },
  {
   "cell_type": "code",
   "execution_count": null,
   "id": "2a58c82d",
   "metadata": {},
   "outputs": [],
   "source": []
  }
 ],
 "metadata": {
  "kernelspec": {
   "display_name": "Python 3",
   "language": "python",
   "name": "python3"
  },
  "language_info": {
   "codemirror_mode": {
    "name": "ipython",
    "version": 3
   },
   "file_extension": ".py",
   "mimetype": "text/x-python",
   "name": "python",
   "nbconvert_exporter": "python",
   "pygments_lexer": "ipython3",
   "version": "3.8.9"
  }
 },
 "nbformat": 4,
 "nbformat_minor": 5
}
